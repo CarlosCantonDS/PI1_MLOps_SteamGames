{
 "cells": [
  {
   "cell_type": "markdown",
   "metadata": {},
   "source": [
    "* Este notebook es para ir desarrollando celda por celda las funciones de las consultas <br>\n",
    "    a las cuales accederá el archivo main.py de la API para conseguir la información <br>\n",
    "    Se cargarán los datos de los parquets que fueron creados en el note book <br>\n",
    "    Data_Preparation_For_API"
   ]
  },
  {
   "cell_type": "code",
   "execution_count": 1,
   "metadata": {},
   "outputs": [],
   "source": [
    "import pandas as pd"
   ]
  },
  {
   "cell_type": "markdown",
   "metadata": {},
   "source": [
    "Se comienza con la funcion para el endpoint developer que es el que hace referencia a <br>\n",
    "nuestro archivo parquet: contenido_free_items"
   ]
  },
  {
   "cell_type": "code",
   "execution_count": 2,
   "metadata": {},
   "outputs": [],
   "source": [
    "df_developer = pd.read_parquet('data/contenido_free_items.parquet')"
   ]
  },
  {
   "cell_type": "code",
   "execution_count": 3,
   "metadata": {},
   "outputs": [
    {
     "data": {
      "text/html": [
       "<div>\n",
       "<style scoped>\n",
       "    .dataframe tbody tr th:only-of-type {\n",
       "        vertical-align: middle;\n",
       "    }\n",
       "\n",
       "    .dataframe tbody tr th {\n",
       "        vertical-align: top;\n",
       "    }\n",
       "\n",
       "    .dataframe thead th {\n",
       "        text-align: right;\n",
       "    }\n",
       "</style>\n",
       "<table border=\"1\" class=\"dataframe\">\n",
       "  <thead>\n",
       "    <tr style=\"text-align: right;\">\n",
       "      <th></th>\n",
       "      <th>price</th>\n",
       "      <th>release_year</th>\n",
       "      <th>developer</th>\n",
       "      <th>item_id</th>\n",
       "    </tr>\n",
       "  </thead>\n",
       "  <tbody>\n",
       "    <tr>\n",
       "      <th>0</th>\n",
       "      <td>4.99</td>\n",
       "      <td>2018.0</td>\n",
       "      <td>Kotoshiro</td>\n",
       "      <td>761140</td>\n",
       "    </tr>\n",
       "    <tr>\n",
       "      <th>1</th>\n",
       "      <td>4.99</td>\n",
       "      <td>2018.0</td>\n",
       "      <td>Kotoshiro</td>\n",
       "      <td>761140</td>\n",
       "    </tr>\n",
       "    <tr>\n",
       "      <th>2</th>\n",
       "      <td>4.99</td>\n",
       "      <td>2018.0</td>\n",
       "      <td>Kotoshiro</td>\n",
       "      <td>761140</td>\n",
       "    </tr>\n",
       "    <tr>\n",
       "      <th>3</th>\n",
       "      <td>4.99</td>\n",
       "      <td>2018.0</td>\n",
       "      <td>Kotoshiro</td>\n",
       "      <td>761140</td>\n",
       "    </tr>\n",
       "    <tr>\n",
       "      <th>4</th>\n",
       "      <td>4.99</td>\n",
       "      <td>2018.0</td>\n",
       "      <td>Kotoshiro</td>\n",
       "      <td>761140</td>\n",
       "    </tr>\n",
       "    <tr>\n",
       "      <th>5</th>\n",
       "      <td>0.00</td>\n",
       "      <td>2018.0</td>\n",
       "      <td>Secret Level SRL</td>\n",
       "      <td>643980</td>\n",
       "    </tr>\n",
       "    <tr>\n",
       "      <th>6</th>\n",
       "      <td>0.00</td>\n",
       "      <td>2018.0</td>\n",
       "      <td>Secret Level SRL</td>\n",
       "      <td>643980</td>\n",
       "    </tr>\n",
       "    <tr>\n",
       "      <th>7</th>\n",
       "      <td>0.00</td>\n",
       "      <td>2018.0</td>\n",
       "      <td>Secret Level SRL</td>\n",
       "      <td>643980</td>\n",
       "    </tr>\n",
       "    <tr>\n",
       "      <th>8</th>\n",
       "      <td>0.00</td>\n",
       "      <td>2018.0</td>\n",
       "      <td>Secret Level SRL</td>\n",
       "      <td>643980</td>\n",
       "    </tr>\n",
       "    <tr>\n",
       "      <th>9</th>\n",
       "      <td>0.00</td>\n",
       "      <td>2017.0</td>\n",
       "      <td>Poolians.com</td>\n",
       "      <td>670290</td>\n",
       "    </tr>\n",
       "  </tbody>\n",
       "</table>\n",
       "</div>"
      ],
      "text/plain": [
       "   price  release_year         developer  item_id\n",
       "0   4.99        2018.0         Kotoshiro   761140\n",
       "1   4.99        2018.0         Kotoshiro   761140\n",
       "2   4.99        2018.0         Kotoshiro   761140\n",
       "3   4.99        2018.0         Kotoshiro   761140\n",
       "4   4.99        2018.0         Kotoshiro   761140\n",
       "5   0.00        2018.0  Secret Level SRL   643980\n",
       "6   0.00        2018.0  Secret Level SRL   643980\n",
       "7   0.00        2018.0  Secret Level SRL   643980\n",
       "8   0.00        2018.0  Secret Level SRL   643980\n",
       "9   0.00        2017.0      Poolians.com   670290"
      ]
     },
     "execution_count": 3,
     "metadata": {},
     "output_type": "execute_result"
    }
   ],
   "source": [
    "df_developer.head(10)"
   ]
  },
  {
   "cell_type": "code",
   "execution_count": 4,
   "metadata": {},
   "outputs": [],
   "source": [
    "# Para comenzar a crear la funcion se escoge un desarrollador al azar\n",
    "dev = \"Poolians.com\"\n",
    "# Filtramos por el desarrollador que se ingrese en la API\n",
    "data_dev = df_developer[df_developer['developer'] == dev]\n"
   ]
  },
  {
   "cell_type": "code",
   "execution_count": 5,
   "metadata": {},
   "outputs": [
    {
     "data": {
      "text/plain": [
       "{2017.0: 5}"
      ]
     },
     "execution_count": 5,
     "metadata": {},
     "output_type": "execute_result"
    }
   ],
   "source": [
    "# Se la cantidad de items por año\n",
    "items_per_year = data_dev.groupby('release_year')['item_id'].count().to_dict()\n",
    "items_per_year"
   ]
  },
  {
   "cell_type": "code",
   "execution_count": 6,
   "metadata": {},
   "outputs": [
    {
     "data": {
      "text/plain": [
       "{2017.0: 5}"
      ]
     },
     "execution_count": 6,
     "metadata": {},
     "output_type": "execute_result"
    }
   ],
   "source": [
    "# Calculamos la cantidad de contenido free por año\n",
    "free_count = data_dev[data_dev['price'] == 0.0].groupby('release_year')['item_id'].count().fillna(0).to_dict()\n",
    "free_count"
   ]
  },
  {
   "cell_type": "code",
   "execution_count": 7,
   "metadata": {},
   "outputs": [
    {
     "data": {
      "text/plain": [
       "{2017.0: 100.0}"
      ]
     },
     "execution_count": 7,
     "metadata": {},
     "output_type": "execute_result"
    }
   ],
   "source": [
    "# Se calcula el porcentaje free\n",
    "free_percentage = {year: (free_count.get(year, 0) / items_per_year.get(year, 1)) * 100 for year in items_per_year}\n",
    "free_percentage"
   ]
  },
  {
   "cell_type": "code",
   "execution_count": 8,
   "metadata": {},
   "outputs": [
    {
     "data": {
      "text/plain": [
       "{2017: {'Cantidad de Items': 5,\n",
       "  '% Contenido Free': 5,\n",
       "  'Porcentaje Free': 100.0}}"
      ]
     },
     "execution_count": 8,
     "metadata": {},
     "output_type": "execute_result"
    }
   ],
   "source": [
    "# Crear la estructura del diccionario de salida con cada año y sus valores asociados\n",
    "developer_dict = {}\n",
    "for year in items_per_year.keys():\n",
    "    year_int = int(year)\n",
    "    developer_dict[year_int] = {\n",
    "            'Cantidad de Items': items_per_year.get(year, 0),\n",
    "            '% Contenido Free': free_count.get(year, 0),\n",
    "            'Porcentaje Free': free_percentage.get(year, 0)\n",
    "        }\n",
    "developer_dict"
   ]
  },
  {
   "cell_type": "markdown",
   "metadata": {},
   "source": [
    "Se continua ahora con la funcion para el endpoint userdata que es el que hace referencia a <br>\n",
    "nuestro archivo parquet: user_data_price y tambien necesitaremos user_reviews_clean"
   ]
  },
  {
   "cell_type": "code",
   "execution_count": 9,
   "metadata": {},
   "outputs": [],
   "source": [
    "df_reviews = pd.read_parquet('data/user_reviews_clean.parquet')"
   ]
  },
  {
   "cell_type": "code",
   "execution_count": 10,
   "metadata": {},
   "outputs": [],
   "source": [
    "df_user_data = pd.read_parquet('data/user_data_price.parquet')"
   ]
  },
  {
   "cell_type": "code",
   "execution_count": 11,
   "metadata": {},
   "outputs": [
    {
     "data": {
      "text/html": [
       "<div>\n",
       "<style scoped>\n",
       "    .dataframe tbody tr th:only-of-type {\n",
       "        vertical-align: middle;\n",
       "    }\n",
       "\n",
       "    .dataframe tbody tr th {\n",
       "        vertical-align: top;\n",
       "    }\n",
       "\n",
       "    .dataframe thead th {\n",
       "        text-align: right;\n",
       "    }\n",
       "</style>\n",
       "<table border=\"1\" class=\"dataframe\">\n",
       "  <thead>\n",
       "    <tr style=\"text-align: right;\">\n",
       "      <th></th>\n",
       "      <th>items_count</th>\n",
       "      <th>user_id</th>\n",
       "      <th>price</th>\n",
       "    </tr>\n",
       "  </thead>\n",
       "  <tbody>\n",
       "    <tr>\n",
       "      <th>0</th>\n",
       "      <td>58</td>\n",
       "      <td>--000--</td>\n",
       "      <td>1566.35</td>\n",
       "    </tr>\n",
       "    <tr>\n",
       "      <th>1</th>\n",
       "      <td>44</td>\n",
       "      <td>--ace--</td>\n",
       "      <td>348.58</td>\n",
       "    </tr>\n",
       "    <tr>\n",
       "      <th>2</th>\n",
       "      <td>23</td>\n",
       "      <td>--ionex--</td>\n",
       "      <td>169.86</td>\n",
       "    </tr>\n",
       "    <tr>\n",
       "      <th>3</th>\n",
       "      <td>68</td>\n",
       "      <td>-2SV-vuLB-Kg</td>\n",
       "      <td>942.80</td>\n",
       "    </tr>\n",
       "    <tr>\n",
       "      <th>4</th>\n",
       "      <td>149</td>\n",
       "      <td>-404PageNotFound-</td>\n",
       "      <td>3484.47</td>\n",
       "    </tr>\n",
       "    <tr>\n",
       "      <th>...</th>\n",
       "      <td>...</td>\n",
       "      <td>...</td>\n",
       "      <td>...</td>\n",
       "    </tr>\n",
       "    <tr>\n",
       "      <th>70907</th>\n",
       "      <td>5</td>\n",
       "      <td>zzonci</td>\n",
       "      <td>59.94</td>\n",
       "    </tr>\n",
       "    <tr>\n",
       "      <th>70908</th>\n",
       "      <td>61</td>\n",
       "      <td>zzoptimuszz</td>\n",
       "      <td>369.92</td>\n",
       "    </tr>\n",
       "    <tr>\n",
       "      <th>70909</th>\n",
       "      <td>13</td>\n",
       "      <td>zzydrax</td>\n",
       "      <td>209.88</td>\n",
       "    </tr>\n",
       "    <tr>\n",
       "      <th>70910</th>\n",
       "      <td>84</td>\n",
       "      <td>zzyfo</td>\n",
       "      <td>1382.17</td>\n",
       "    </tr>\n",
       "    <tr>\n",
       "      <th>70911</th>\n",
       "      <td>69</td>\n",
       "      <td>zzzmidmiss</td>\n",
       "      <td>729.43</td>\n",
       "    </tr>\n",
       "  </tbody>\n",
       "</table>\n",
       "<p>70912 rows × 3 columns</p>\n",
       "</div>"
      ],
      "text/plain": [
       "       items_count            user_id    price\n",
       "0               58            --000--  1566.35\n",
       "1               44            --ace--   348.58\n",
       "2               23          --ionex--   169.86\n",
       "3               68       -2SV-vuLB-Kg   942.80\n",
       "4              149  -404PageNotFound-  3484.47\n",
       "...            ...                ...      ...\n",
       "70907            5             zzonci    59.94\n",
       "70908           61        zzoptimuszz   369.92\n",
       "70909           13            zzydrax   209.88\n",
       "70910           84              zzyfo  1382.17\n",
       "70911           69         zzzmidmiss   729.43\n",
       "\n",
       "[70912 rows x 3 columns]"
      ]
     },
     "execution_count": 11,
     "metadata": {},
     "output_type": "execute_result"
    }
   ],
   "source": [
    "df_user_data"
   ]
  },
  {
   "cell_type": "code",
   "execution_count": 37,
   "metadata": {},
   "outputs": [],
   "source": [
    "# Se escoge un usuario para hacer pruebas\n",
    "user_id = '76561197970982479'\n",
    "# Se comienza filtrando por el usuario que se ingresa en la API\n",
    "user = df_reviews[df_reviews['user_id'] == user_id]"
   ]
  },
  {
   "cell_type": "code",
   "execution_count": 38,
   "metadata": {},
   "outputs": [
    {
     "data": {
      "text/plain": [
       "6427.36"
      ]
     },
     "execution_count": 38,
     "metadata": {},
     "output_type": "execute_result"
    }
   ],
   "source": [
    "# Se hace el calculo de la cantidad de dinero gastado para ese usuario\n",
    "price_count = df_user_data[df_user_data['user_id']== user_id]['price'].iloc[0]\n",
    "price_count"
   ]
  },
  {
   "cell_type": "code",
   "execution_count": 39,
   "metadata": {},
   "outputs": [
    {
     "data": {
      "text/plain": [
       "277"
      ]
     },
     "execution_count": 39,
     "metadata": {},
     "output_type": "execute_result"
    }
   ],
   "source": [
    " # Se obtiene la cantidad de items para ese usuario   \n",
    "items_count = df_user_data[df_user_data['user_id']== user_id]['items_count'].iloc[0]\n",
    "items_count"
   ]
  },
  {
   "cell_type": "code",
   "execution_count": 40,
   "metadata": {},
   "outputs": [
    {
     "data": {
      "text/plain": [
       "3"
      ]
     },
     "execution_count": 40,
     "metadata": {},
     "output_type": "execute_result"
    }
   ],
   "source": [
    "# Se busca el total de recomendaciones por ese usuario\n",
    "user_recom_count = user['reviews_recommend'].sum()\n",
    "user_recom_count"
   ]
  },
  {
   "cell_type": "code",
   "execution_count": 41,
   "metadata": {},
   "outputs": [
    {
     "data": {
      "text/plain": [
       "25132"
      ]
     },
     "execution_count": 41,
     "metadata": {},
     "output_type": "execute_result"
    }
   ],
   "source": [
    "# Se calcula el total de reviews de todos los usuarios\n",
    "reviews_total = len(df_reviews['user_id'].unique())\n",
    "reviews_total"
   ]
  },
  {
   "cell_type": "code",
   "execution_count": 42,
   "metadata": {},
   "outputs": [
    {
     "data": {
      "text/plain": [
       "0.011936972783702053"
      ]
     },
     "execution_count": 42,
     "metadata": {},
     "output_type": "execute_result"
    }
   ],
   "source": [
    "# Ahora se puede calcular el porcentaje de ese usuario\n",
    "user_percentage = (user_recom_count / reviews_total) * 100\n",
    "user_percentage"
   ]
  },
  {
   "cell_type": "code",
   "execution_count": 43,
   "metadata": {},
   "outputs": [
    {
     "data": {
      "text/plain": [
       "{'cantidad_dinero': 6427, 'porcentaje_recomendacion': 0.01, 'total_items': 277}"
      ]
     },
     "execution_count": 43,
     "metadata": {},
     "output_type": "execute_result"
    }
   ],
   "source": [
    "user_data_dic = {\n",
    "        'cantidad_dinero': int(price_count),\n",
    "        'porcentaje_recomendacion': round(float(user_percentage), 2),\n",
    "        'total_items': int(items_count)\n",
    "    }\n",
    "\n",
    "user_data_dic"
   ]
  },
  {
   "cell_type": "markdown",
   "metadata": {},
   "source": [
    "Ahora se trabaja con en endpoint UserForGenre que hace referencia al parquet <br>\n",
    "user_for_genre"
   ]
  },
  {
   "cell_type": "code",
   "execution_count": 19,
   "metadata": {},
   "outputs": [],
   "source": [
    "df_user_genre = pd.read_parquet('data/user_for_genre.parquet')"
   ]
  },
  {
   "cell_type": "code",
   "execution_count": 20,
   "metadata": {},
   "outputs": [
    {
     "data": {
      "text/html": [
       "<div>\n",
       "<style scoped>\n",
       "    .dataframe tbody tr th:only-of-type {\n",
       "        vertical-align: middle;\n",
       "    }\n",
       "\n",
       "    .dataframe tbody tr th {\n",
       "        vertical-align: top;\n",
       "    }\n",
       "\n",
       "    .dataframe thead th {\n",
       "        text-align: right;\n",
       "    }\n",
       "</style>\n",
       "<table border=\"1\" class=\"dataframe\">\n",
       "  <thead>\n",
       "    <tr style=\"text-align: right;\">\n",
       "      <th></th>\n",
       "      <th>genres</th>\n",
       "      <th>user_id</th>\n",
       "      <th>release_year</th>\n",
       "      <th>playtime_hrs</th>\n",
       "    </tr>\n",
       "  </thead>\n",
       "  <tbody>\n",
       "    <tr>\n",
       "      <th>0</th>\n",
       "      <td>Action</td>\n",
       "      <td>--000--</td>\n",
       "      <td>2009.0</td>\n",
       "      <td>88.816667</td>\n",
       "    </tr>\n",
       "    <tr>\n",
       "      <th>1</th>\n",
       "      <td>Action</td>\n",
       "      <td>--000--</td>\n",
       "      <td>2010.0</td>\n",
       "      <td>0.366667</td>\n",
       "    </tr>\n",
       "    <tr>\n",
       "      <th>2</th>\n",
       "      <td>Action</td>\n",
       "      <td>--000--</td>\n",
       "      <td>2011.0</td>\n",
       "      <td>108.700000</td>\n",
       "    </tr>\n",
       "    <tr>\n",
       "      <th>3</th>\n",
       "      <td>Action</td>\n",
       "      <td>--000--</td>\n",
       "      <td>2012.0</td>\n",
       "      <td>1822.433333</td>\n",
       "    </tr>\n",
       "    <tr>\n",
       "      <th>4</th>\n",
       "      <td>Action</td>\n",
       "      <td>--000--</td>\n",
       "      <td>2013.0</td>\n",
       "      <td>6.050000</td>\n",
       "    </tr>\n",
       "    <tr>\n",
       "      <th>...</th>\n",
       "      <td>...</td>\n",
       "      <td>...</td>\n",
       "      <td>...</td>\n",
       "      <td>...</td>\n",
       "    </tr>\n",
       "    <tr>\n",
       "      <th>3339195</th>\n",
       "      <td>Web Publishing</td>\n",
       "      <td>zachwgtv</td>\n",
       "      <td>2005.0</td>\n",
       "      <td>0.000000</td>\n",
       "    </tr>\n",
       "    <tr>\n",
       "      <th>3339196</th>\n",
       "      <td>Web Publishing</td>\n",
       "      <td>zachwgtv</td>\n",
       "      <td>2012.0</td>\n",
       "      <td>0.000000</td>\n",
       "    </tr>\n",
       "    <tr>\n",
       "      <th>3339197</th>\n",
       "      <td>Web Publishing</td>\n",
       "      <td>zepavil</td>\n",
       "      <td>2012.0</td>\n",
       "      <td>481.933333</td>\n",
       "    </tr>\n",
       "    <tr>\n",
       "      <th>3339198</th>\n",
       "      <td>Web Publishing</td>\n",
       "      <td>zepavil</td>\n",
       "      <td>2015.0</td>\n",
       "      <td>150.166667</td>\n",
       "    </tr>\n",
       "    <tr>\n",
       "      <th>3339199</th>\n",
       "      <td>Web Publishing</td>\n",
       "      <td>zevlupine</td>\n",
       "      <td>2012.0</td>\n",
       "      <td>0.066667</td>\n",
       "    </tr>\n",
       "  </tbody>\n",
       "</table>\n",
       "<p>3339200 rows × 4 columns</p>\n",
       "</div>"
      ],
      "text/plain": [
       "                 genres    user_id  release_year  playtime_hrs\n",
       "0                Action    --000--        2009.0     88.816667\n",
       "1                Action    --000--        2010.0      0.366667\n",
       "2                Action    --000--        2011.0    108.700000\n",
       "3                Action    --000--        2012.0   1822.433333\n",
       "4                Action    --000--        2013.0      6.050000\n",
       "...                 ...        ...           ...           ...\n",
       "3339195  Web Publishing   zachwgtv        2005.0      0.000000\n",
       "3339196  Web Publishing   zachwgtv        2012.0      0.000000\n",
       "3339197  Web Publishing    zepavil        2012.0    481.933333\n",
       "3339198  Web Publishing    zepavil        2015.0    150.166667\n",
       "3339199  Web Publishing  zevlupine        2012.0      0.066667\n",
       "\n",
       "[3339200 rows x 4 columns]"
      ]
     },
     "execution_count": 20,
     "metadata": {},
     "output_type": "execute_result"
    }
   ],
   "source": [
    "df_user_genre"
   ]
  },
  {
   "cell_type": "code",
   "execution_count": 21,
   "metadata": {},
   "outputs": [],
   "source": [
    "# Se utiliza un genero de referencia\n",
    "genre = 'Web Publishing'\n",
    "# Se filtra para este genero \n",
    "one_genre_data = df_user_genre[df_user_genre['genres'] == genre]"
   ]
  },
  {
   "cell_type": "code",
   "execution_count": 22,
   "metadata": {},
   "outputs": [
    {
     "data": {
      "text/plain": [
       "'Xyphien'"
      ]
     },
     "execution_count": 22,
     "metadata": {},
     "output_type": "execute_result"
    }
   ],
   "source": [
    "# Se calcula el usuario con más horas\n",
    "top_user_max = one_genre_data.groupby(['user_id'])['playtime_hrs'].sum().idxmax()\n",
    "top_user_max"
   ]
  },
  {
   "cell_type": "code",
   "execution_count": 23,
   "metadata": {},
   "outputs": [
    {
     "data": {
      "text/plain": [
       "2382.733333333333"
      ]
     },
     "execution_count": 23,
     "metadata": {},
     "output_type": "execute_result"
    }
   ],
   "source": [
    "# Se calcula la suma de la cantidad total de horas\n",
    "top_hrs_max = one_genre_data.loc[one_genre_data.set_index(['user_id']).index == top_user_max]['playtime_hrs'].sum()\n",
    "top_hrs_max"
   ]
  },
  {
   "cell_type": "code",
   "execution_count": 24,
   "metadata": {},
   "outputs": [],
   "source": [
    "# Crear una lista de diccionarios con años y horas jugadas para cada año\n",
    "horas_por_año = []\n",
    "\n",
    "available_years = one_genre_data.loc[one_genre_data['user_id'] == top_user_max, 'release_year'].unique()\n",
    "\n",
    "for year in available_years:\n",
    "    horas_año = one_genre_data[(one_genre_data['user_id'] == top_user_max) & (one_genre_data['release_year'] == year)]['playtime_hrs'].sum()\n",
    "    if horas_año > 0:\n",
    "        horas_por_año.append({'Año': int(year), 'Horas': int(horas_año)})\n",
    "\n",
    "# Construir el diccionario final\n",
    "resultado = {\n",
    "    f\"Usuario con más horas jugadas para Género {genre}\": top_user_max,\n",
    "    \"Horas jugadas\": horas_por_año\n",
    "}"
   ]
  },
  {
   "cell_type": "code",
   "execution_count": 25,
   "metadata": {},
   "outputs": [
    {
     "data": {
      "text/plain": [
       "{'Usuario con más horas jugadas para Género Web Publishing': 'Xyphien',\n",
       " 'Horas jugadas': [{'Año': 2005, 'Horas': 121},\n",
       "  {'Año': 2012, 'Horas': 1077},\n",
       "  {'Año': 2015, 'Horas': 1183}]}"
      ]
     },
     "execution_count": 25,
     "metadata": {},
     "output_type": "execute_result"
    }
   ],
   "source": [
    "resultado"
   ]
  },
  {
   "cell_type": "markdown",
   "metadata": {},
   "source": [
    "Ahora se trabaja con en endpoint best_developer_year que hace referencia al parquet <br>\n",
    "best_developer_year que ya fue construido con las columnas necesarias, ya tiene reviews <br>\n",
    "igual a True y tambien tiene sentimiento de analisis positivo, por lo cual solo hay que armar <br>\n",
    "el resultado de salida que es el diccionario"
   ]
  },
  {
   "cell_type": "code",
   "execution_count": 26,
   "metadata": {},
   "outputs": [],
   "source": [
    "df_best_developer_year = pd.read_parquet('data/best_developer_year.parquet')"
   ]
  },
  {
   "cell_type": "code",
   "execution_count": 27,
   "metadata": {},
   "outputs": [
    {
     "data": {
      "text/html": [
       "<div>\n",
       "<style scoped>\n",
       "    .dataframe tbody tr th:only-of-type {\n",
       "        vertical-align: middle;\n",
       "    }\n",
       "\n",
       "    .dataframe tbody tr th {\n",
       "        vertical-align: top;\n",
       "    }\n",
       "\n",
       "    .dataframe thead th {\n",
       "        text-align: right;\n",
       "    }\n",
       "</style>\n",
       "<table border=\"1\" class=\"dataframe\">\n",
       "  <thead>\n",
       "    <tr style=\"text-align: right;\">\n",
       "      <th></th>\n",
       "      <th>sentiment_analysis</th>\n",
       "      <th>reviews_recommend</th>\n",
       "      <th>user_id</th>\n",
       "      <th>developer</th>\n",
       "      <th>release_year</th>\n",
       "    </tr>\n",
       "  </thead>\n",
       "  <tbody>\n",
       "    <tr>\n",
       "      <th>0</th>\n",
       "      <td>2</td>\n",
       "      <td>True</td>\n",
       "      <td>76561197970982479</td>\n",
       "      <td>Valve</td>\n",
       "      <td>1998</td>\n",
       "    </tr>\n",
       "    <tr>\n",
       "      <th>1</th>\n",
       "      <td>2</td>\n",
       "      <td>True</td>\n",
       "      <td>76561197970982479</td>\n",
       "      <td>Arkane Studios</td>\n",
       "      <td>2002</td>\n",
       "    </tr>\n",
       "    <tr>\n",
       "      <th>2</th>\n",
       "      <td>2</td>\n",
       "      <td>True</td>\n",
       "      <td>76561197970982479</td>\n",
       "      <td>2K Boston,2K Australia</td>\n",
       "      <td>2007</td>\n",
       "    </tr>\n",
       "    <tr>\n",
       "      <th>3</th>\n",
       "      <td>2</td>\n",
       "      <td>True</td>\n",
       "      <td>76561197970982479</td>\n",
       "      <td>Epic Games, Inc.</td>\n",
       "      <td>1998</td>\n",
       "    </tr>\n",
       "    <tr>\n",
       "      <th>4</th>\n",
       "      <td>2</td>\n",
       "      <td>True</td>\n",
       "      <td>76561197970982479</td>\n",
       "      <td>Oddworld Inhabitants</td>\n",
       "      <td>1998</td>\n",
       "    </tr>\n",
       "  </tbody>\n",
       "</table>\n",
       "</div>"
      ],
      "text/plain": [
       "   sentiment_analysis  reviews_recommend            user_id  \\\n",
       "0                   2               True  76561197970982479   \n",
       "1                   2               True  76561197970982479   \n",
       "2                   2               True  76561197970982479   \n",
       "3                   2               True  76561197970982479   \n",
       "4                   2               True  76561197970982479   \n",
       "\n",
       "                developer  release_year  \n",
       "0                   Valve          1998  \n",
       "1          Arkane Studios          2002  \n",
       "2  2K Boston,2K Australia          2007  \n",
       "3        Epic Games, Inc.          1998  \n",
       "4    Oddworld Inhabitants          1998  "
      ]
     },
     "execution_count": 27,
     "metadata": {},
     "output_type": "execute_result"
    }
   ],
   "source": [
    "df_best_developer_year.head()"
   ]
  },
  {
   "cell_type": "code",
   "execution_count": 28,
   "metadata": {},
   "outputs": [],
   "source": [
    "# Se escoge un año para pruebas\n",
    "year_demo = 2002\n",
    "# Se filtra el DataFrame para el año dado\n",
    "year_data = df_best_developer_year[(df_best_developer_year['release_year'] == year_demo) & (df_best_developer_year['sentiment_analysis'] == 2)]"
   ]
  },
  {
   "cell_type": "code",
   "execution_count": 29,
   "metadata": {},
   "outputs": [
    {
     "data": {
      "text/plain": [
       "developer\n",
       "Io-Interactive A/S       1227\n",
       "Bethesda Game Studios     848\n",
       "Rockstar Games            716\n",
       "dtype: int64"
      ]
     },
     "execution_count": 29,
     "metadata": {},
     "output_type": "execute_result"
    }
   ],
   "source": [
    "# Se obtienen los 3 principales desarrolladores con más juegos recomendados por usuarios\n",
    "top_developers = year_data.groupby('developer').size().nlargest(3)\n",
    "top_developers"
   ]
  },
  {
   "cell_type": "code",
   "execution_count": 30,
   "metadata": {},
   "outputs": [
    {
     "data": {
      "text/plain": [
       "[{'Puesto 1': 'Io-Interactive A/S'},\n",
       " {'Puesto 2': 'Bethesda Game Studios'},\n",
       " {'Puesto 3': 'Rockstar Games'}]"
      ]
     },
     "execution_count": 30,
     "metadata": {},
     "output_type": "execute_result"
    }
   ],
   "source": [
    "# Se construye el diccionario con el resultado\n",
    "resultado = [{\"Puesto 1\": top_developers.index[0]}, {\"Puesto 2\": top_developers.index[1]}, {\"Puesto 3\": top_developers.index[2]}]\n",
    "resultado"
   ]
  },
  {
   "cell_type": "code",
   "execution_count": 31,
   "metadata": {},
   "outputs": [
    {
     "data": {
      "text/plain": [
       "{'Puesto 1': 'Io-Interactive A/S',\n",
       " 'Puesto 2': 'Bethesda Game Studios',\n",
       " 'Puesto 3': 'Rockstar Games'}"
      ]
     },
     "execution_count": 31,
     "metadata": {},
     "output_type": "execute_result"
    }
   ],
   "source": [
    "resultado = {\n",
    "    \"Puesto 1\": top_developers.index[0],\n",
    "    \"Puesto 2\": top_developers.index[1],\n",
    "    \"Puesto 3\": top_developers.index[2]\n",
    "}\n",
    "resultado"
   ]
  },
  {
   "cell_type": "markdown",
   "metadata": {},
   "source": [
    "Finalmente, se va a trabajar con el endpoint developer_reviews_analysis que tiene relacionado al parquet <br>\n",
    "dev_rev_analysis.parquet que ya tiene disponibles dos columnas: desarollador y analisis de sentimiento."
   ]
  },
  {
   "cell_type": "code",
   "execution_count": 32,
   "metadata": {},
   "outputs": [],
   "source": [
    "df_dev_analysis = pd.read_parquet('data/dev_rev_analysis.parquet')"
   ]
  },
  {
   "cell_type": "code",
   "execution_count": 33,
   "metadata": {},
   "outputs": [
    {
     "data": {
      "text/html": [
       "<div>\n",
       "<style scoped>\n",
       "    .dataframe tbody tr th:only-of-type {\n",
       "        vertical-align: middle;\n",
       "    }\n",
       "\n",
       "    .dataframe tbody tr th {\n",
       "        vertical-align: top;\n",
       "    }\n",
       "\n",
       "    .dataframe thead th {\n",
       "        text-align: right;\n",
       "    }\n",
       "</style>\n",
       "<table border=\"1\" class=\"dataframe\">\n",
       "  <thead>\n",
       "    <tr style=\"text-align: right;\">\n",
       "      <th></th>\n",
       "      <th>developer</th>\n",
       "      <th>sentiment_analysis</th>\n",
       "    </tr>\n",
       "  </thead>\n",
       "  <tbody>\n",
       "    <tr>\n",
       "      <th>0</th>\n",
       "      <td>Valve</td>\n",
       "      <td>2</td>\n",
       "    </tr>\n",
       "    <tr>\n",
       "      <th>1</th>\n",
       "      <td>Arkane Studios</td>\n",
       "      <td>2</td>\n",
       "    </tr>\n",
       "    <tr>\n",
       "      <th>2</th>\n",
       "      <td>2K Boston,2K Australia</td>\n",
       "      <td>2</td>\n",
       "    </tr>\n",
       "    <tr>\n",
       "      <th>3</th>\n",
       "      <td>Epic Games, Inc.</td>\n",
       "      <td>2</td>\n",
       "    </tr>\n",
       "    <tr>\n",
       "      <th>4</th>\n",
       "      <td>Oddworld Inhabitants</td>\n",
       "      <td>2</td>\n",
       "    </tr>\n",
       "    <tr>\n",
       "      <th>...</th>\n",
       "      <td>...</td>\n",
       "      <td>...</td>\n",
       "    </tr>\n",
       "    <tr>\n",
       "      <th>3167896</th>\n",
       "      <td>Secret Exit Ltd.</td>\n",
       "      <td>2</td>\n",
       "    </tr>\n",
       "    <tr>\n",
       "      <th>3167897</th>\n",
       "      <td>Bohemia Interactive</td>\n",
       "      <td>2</td>\n",
       "    </tr>\n",
       "    <tr>\n",
       "      <th>3167898</th>\n",
       "      <td>Ubisoft Montreal</td>\n",
       "      <td>2</td>\n",
       "    </tr>\n",
       "    <tr>\n",
       "      <th>3167899</th>\n",
       "      <td>Avalanche Studios</td>\n",
       "      <td>2</td>\n",
       "    </tr>\n",
       "    <tr>\n",
       "      <th>3167900</th>\n",
       "      <td>Valve</td>\n",
       "      <td>2</td>\n",
       "    </tr>\n",
       "  </tbody>\n",
       "</table>\n",
       "<p>3167901 rows × 2 columns</p>\n",
       "</div>"
      ],
      "text/plain": [
       "                      developer  sentiment_analysis\n",
       "0                         Valve                   2\n",
       "1                Arkane Studios                   2\n",
       "2        2K Boston,2K Australia                   2\n",
       "3              Epic Games, Inc.                   2\n",
       "4          Oddworld Inhabitants                   2\n",
       "...                         ...                 ...\n",
       "3167896        Secret Exit Ltd.                   2\n",
       "3167897     Bohemia Interactive                   2\n",
       "3167898        Ubisoft Montreal                   2\n",
       "3167899       Avalanche Studios                   2\n",
       "3167900                   Valve                   2\n",
       "\n",
       "[3167901 rows x 2 columns]"
      ]
     },
     "execution_count": 33,
     "metadata": {},
     "output_type": "execute_result"
    }
   ],
   "source": [
    "df_dev_analysis"
   ]
  },
  {
   "cell_type": "code",
   "execution_count": 34,
   "metadata": {},
   "outputs": [],
   "source": [
    "# Se selecciona un desarrollador para pruebas\n",
    "dev_demo = 'Valve'\n",
    "# Se filtra el DataFrame por el desarrollador dado\n",
    "developer_data = df_dev_analysis[df_dev_analysis['developer'] == dev_demo]"
   ]
  },
  {
   "cell_type": "code",
   "execution_count": 35,
   "metadata": {},
   "outputs": [
    {
     "data": {
      "text/plain": [
       "sentiment_analysis\n",
       "2    76943\n",
       "1    75683\n",
       "0    31810\n",
       "Name: count, dtype: int64"
      ]
     },
     "execution_count": 35,
     "metadata": {},
     "output_type": "execute_result"
    }
   ],
   "source": [
    "# Se obtiene el recuento de análisis de sentimiento por desarrollador\n",
    "sentiment_counts = developer_data['sentiment_analysis'].value_counts()\n",
    "sentiment_counts"
   ]
  },
  {
   "cell_type": "code",
   "execution_count": 36,
   "metadata": {},
   "outputs": [
    {
     "data": {
      "text/plain": [
       "{'Valve': ['Negative = 31810', 'Positive = 76943']}"
      ]
     },
     "execution_count": 36,
     "metadata": {},
     "output_type": "execute_result"
    }
   ],
   "source": [
    "# Se crea el diccionario de salida\n",
    "resultado = {dev_demo: [f\"Negative = {sentiment_counts.get(0, 0)}\", f\"Positive = {sentiment_counts.get(2, 0)}\"]}\n",
    "resultado"
   ]
  },
  {
   "cell_type": "markdown",
   "metadata": {},
   "source": [
    "Ahora que ya tenemos los resultados en este notebook, se va a construir una funcion llamada \"helper.py\" <br>\n",
    "Ahí se van a poner todas las funciones que serán de utilidad para devolver la informacion en la API.\n",
    "Con este notebook finalizado, se proecede a desarrollar el archivo \"helper.py\""
   ]
  }
 ],
 "metadata": {
  "kernelspec": {
   "display_name": "Python 3",
   "language": "python",
   "name": "python3"
  },
  "language_info": {
   "codemirror_mode": {
    "name": "ipython",
    "version": 3
   },
   "file_extension": ".py",
   "mimetype": "text/x-python",
   "name": "python",
   "nbconvert_exporter": "python",
   "pygments_lexer": "ipython3",
   "version": "3.9.5"
  }
 },
 "nbformat": 4,
 "nbformat_minor": 2
}
